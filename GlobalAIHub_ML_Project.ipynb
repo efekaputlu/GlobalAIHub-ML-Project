{
  "cells": [
    {
      "cell_type": "markdown",
      "metadata": {
        "id": "TpepD0MQxcYi"
      },
      "source": [
        "Importing required libraries"
      ]
    },
    {
      "cell_type": "code",
      "execution_count": null,
      "metadata": {
        "id": "eG6e1LKntyD6"
      },
      "outputs": [],
      "source": [
        "import pandas as pd\n",
        "import numpy as np\n",
        "import matplotlib.pyplot as plt\n",
        "import seaborn as sns\n",
        "\n",
        "from sklearn.preprocessing import MinMaxScaler, LabelEncoder\n",
        "from sklearn.linear_model import LogisticRegression, RidgeClassifier, LinearRegression\n",
        "from sklearn.tree import DecisionTreeRegressor\n",
        "from sklearn.ensemble import RandomForestRegressor, GradientBoostingRegressor\n",
        "from sklearn.naive_bayes import GaussianNB\n",
        "from sklearn.neural_network import MLPClassifier\n",
        "\n",
        "from sklearn.model_selection import train_test_split, cross_val_score, GridSearchCV\n",
        "from sklearn.metrics import mean_absolute_error, mean_squared_error\n",
        "#from xgboost import XGBRegressor\n"
      ]
    },
    {
      "cell_type": "markdown",
      "metadata": {
        "id": "Gpun4onzxHVB"
      },
      "source": [
        "Data importation & Creating DataFrame\n"
      ]
    },
    {
      "cell_type": "code",
      "execution_count": null,
      "metadata": {
        "colab": {
          "base_uri": "https://localhost:8080/"
        },
        "id": "-Q2vQ2b1u6fC",
        "outputId": "0c9d4695-42f7-447d-9dd9-96d48c246542"
      },
      "outputs": [
        {
          "name": "stdout",
          "output_type": "stream",
          "text": [
            "   age     sex     bmi  children smoker     region      charges\n",
            "0   19  female  27.900         0    yes  southwest  16884.92400\n",
            "1   18    male  33.770         1     no  southeast   1725.55230\n",
            "2   28    male  33.000         3     no  southeast   4449.46200\n",
            "3   33    male  22.705         0     no  northwest  21984.47061\n",
            "4   32    male  28.880         0     no  northwest   3866.85520\n",
            "      age     sex    bmi  children smoker     region     charges\n",
            "1333   50    male  30.97         3     no  northwest  10600.5483\n",
            "1334   18  female  31.92         0     no  northeast   2205.9808\n",
            "1335   18  female  36.85         0     no  southeast   1629.8335\n",
            "1336   21  female  25.80         0     no  southwest   2007.9450\n",
            "1337   61  female  29.07         0    yes  northwest  29141.3603\n",
            "(1338, 7)\n",
            "<class 'pandas.core.frame.DataFrame'>\n",
            "RangeIndex: 1338 entries, 0 to 1337\n",
            "Data columns (total 7 columns):\n",
            " #   Column    Non-Null Count  Dtype  \n",
            "---  ------    --------------  -----  \n",
            " 0   age       1338 non-null   int64  \n",
            " 1   sex       1338 non-null   object \n",
            " 2   bmi       1338 non-null   float64\n",
            " 3   children  1338 non-null   int64  \n",
            " 4   smoker    1338 non-null   object \n",
            " 5   region    1338 non-null   object \n",
            " 6   charges   1338 non-null   float64\n",
            "dtypes: float64(2), int64(2), object(3)\n",
            "memory usage: 73.3+ KB\n",
            "None\n"
          ]
        }
      ],
      "source": [
        "df = pd.read_csv(\"insurance.csv\")\n",
        "print(df.head())\n",
        "print(df.tail())\n",
        "print(df.shape)\n",
        "print(df.info())"
      ]
    },
    {
      "cell_type": "markdown",
      "metadata": {
        "id": "oU7emusKx3QM"
      },
      "source": [
        "Checking the dataframe for nulls and duplicates"
      ]
    },
    {
      "cell_type": "code",
      "execution_count": null,
      "metadata": {
        "colab": {
          "base_uri": "https://localhost:8080/"
        },
        "id": "kmVZ-cyTx7rm",
        "outputId": "1c55f81f-dfa1-4d02-d4af-bb232f28e91e"
      },
      "outputs": [
        {
          "name": "stdout",
          "output_type": "stream",
          "text": [
            "age         0\n",
            "sex         0\n",
            "bmi         0\n",
            "children    0\n",
            "smoker      0\n",
            "region      0\n",
            "charges     0\n",
            "dtype: int64\n",
            "1\n"
          ]
        }
      ],
      "source": [
        "print(df.isna().sum())\n",
        "print(df.duplicated().sum())"
      ]
    },
    {
      "cell_type": "code",
      "execution_count": null,
      "metadata": {
        "colab": {
          "base_uri": "https://localhost:8080/"
        },
        "id": "I_yHvIT9x-BO",
        "outputId": "aae17512-4195-46c4-9a63-c60b3300ce98"
      },
      "outputs": [
        {
          "data": {
            "text/plain": [
              "0"
            ]
          },
          "execution_count": 63,
          "metadata": {},
          "output_type": "execute_result"
        }
      ],
      "source": [
        "df.drop_duplicates(inplace=True)\n",
        "df.duplicated().sum()"
      ]
    },
    {
      "cell_type": "markdown",
      "metadata": {
        "id": "-AZbdOBj1wDF"
      },
      "source": [
        " Exploratory Data Analysis"
      ]
    },
    {
      "cell_type": "markdown",
      "metadata": {
        "id": "HNBn-rwG2ost"
      },
      "source": [
        "The distribution of BMI"
      ]
    },
    {
      "cell_type": "code",
      "execution_count": null,
      "metadata": {
        "colab": {
          "base_uri": "https://localhost:8080/",
          "height": 350
        },
        "id": "p453ZCY61szP",
        "outputId": "8f1a357f-f5e3-4406-e14f-066f5791e4a0"
      },
      "outputs": [
        {
          "name": "stderr",
          "output_type": "stream",
          "text": [
            "/usr/local/lib/python3.7/dist-packages/seaborn/distributions.py:2619: FutureWarning: `distplot` is a deprecated function and will be removed in a future version. Please adapt your code to use either `displot` (a figure-level function with similar flexibility) or `histplot` (an axes-level function for histograms).\n",
            "  warnings.warn(msg, FutureWarning)\n"
          ]
        },
        {
          "data": {
            "image/png": "[encoded data removed]",
            "text/plain": [
              "<Figure size 432x288 with 1 Axes>"
            ]
          },
          "metadata": {},
          "output_type": "display_data"
        }
      ],
      "source": [
        "plt.figure()\n",
        "sns.distplot(df[\"bmi\"])\n",
        "plt.xlabel(\"BMI\")\n",
        "plt.ylabel(\"freq\")\n",
        "plt.title(\"Distribution of Body Mass Index\");"
      ]
    },
    {
      "cell_type": "markdown",
      "metadata": {
        "id": "bLV32pU834g6"
      },
      "source": [
        "With default parameters of seaborns distplot function, it can easily be observed that BMI is well distributed. It is also possible to observe a Gaussian Curve."
      ]
    },
    {
      "cell_type": "markdown",
      "metadata": {
        "id": "A_9xIUKx2t_j"
      },
      "source": [
        "* Relationship between smoker and charges\n",
        "\n",
        "\n"
      ]
    },
    {
      "cell_type": "code",
      "execution_count": null,
      "metadata": {
        "colab": {
          "base_uri": "https://localhost:8080/",
          "height": 295
        },
        "id": "dvPM4-iM2Ln_",
        "outputId": "1da1fcf6-0239-4ce4-9a28-2d1e17ee9e5a"
      },
      "outputs": [
        {
          "data": {
            "image/png": "[encoded data removed]",
            "text/plain": [
              "<Figure size 432x288 with 1 Axes>"
            ]
          },
          "metadata": {},
          "output_type": "display_data"
        }
      ],
      "source": [
        "plt.figure()\n",
        "sns.boxplot(x=\"smoker\",y=\"charges\",data=df)\n",
        "plt.title(\"the relationship between smokers and charges\")\n",
        "plt.show()\n"
      ]
    },
    {
      "cell_type": "markdown",
      "metadata": {
        "id": "I61OdeF-4dyX"
      },
      "source": [
        "We can observe that smoking people have more charges than non-smoking ones."
      ]
    },
    {
      "cell_type": "markdown",
      "metadata": {
        "id": "5PzE2xUn4392"
      },
      "source": [
        "* Relationship between smoker and region\n",
        "\n"
      ]
    },
    {
      "cell_type": "code",
      "execution_count": null,
      "metadata": {
        "colab": {
          "base_uri": "https://localhost:8080/",
          "height": 295
        },
        "id": "hWAJw_f54nlg",
        "outputId": "be5946c5-3d10-4dbc-e60e-8216146fdb94"
      },
      "outputs": [
        {
          "data": {
            "image/png": "[encoded data removed]",
            "text/plain": [
              "<Figure size 432x288 with 1 Axes>"
            ]
          },
          "metadata": {},
          "output_type": "display_data"
        }
      ],
      "source": [
        "plt.figure()\n",
        "sns.countplot(data=df, x=\"region\", hue=\"smoker\")\n",
        "plt.title(\"the relationship between smoker and region\")\n",
        "plt.show()"
      ]
    },
    {
      "cell_type": "markdown",
      "metadata": {
        "id": "rdgQ0cNK5ZVk"
      },
      "source": [
        "Southeast has the most people smoking where southwest has the least."
      ]
    },
    {
      "cell_type": "markdown",
      "metadata": {
        "id": "tHl0TJVK7B5O"
      },
      "source": [
        "* Relationship between sex and bmi"
      ]
    },
    {
      "cell_type": "code",
      "execution_count": null,
      "metadata": {
        "colab": {
          "base_uri": "https://localhost:8080/",
          "height": 513
        },
        "id": "DTu9EaFB2-DS",
        "outputId": "d6421e53-c561-4046-98c6-402ee15c3516"
      },
      "outputs": [
        {
          "data": {
            "image/png": "[encoded data removed]",
            "text/plain": [
              "<Figure size 864x576 with 1 Axes>"
            ]
          },
          "metadata": {},
          "output_type": "display_data"
        }
      ],
      "source": [
        "plt.figure(figsize=(12,8))\n",
        "sns.boxplot(x=\"sex\",y=\"bmi\",data=df)\n",
        "plt.title(\"the relationship between sex and bmi\")\n",
        "plt.show()\n"
      ]
    },
    {
      "cell_type": "markdown",
      "metadata": {
        "id": "4gkL4kWy7eY5"
      },
      "source": [
        "We had to change the figsize as there is a tiny difference between the BMI's of males and females. Males have a little higher BMI value than females."
      ]
    },
    {
      "cell_type": "markdown",
      "metadata": {
        "id": "yi70_EQV8DSp"
      },
      "source": [
        "* Region with most children"
      ]
    },
    {
      "cell_type": "code",
      "execution_count": null,
      "metadata": {
        "colab": {
          "base_uri": "https://localhost:8080/",
          "height": 295
        },
        "id": "4oNdLWA78CkE",
        "outputId": "3e4de1f0-4c1c-4462-bc4c-b9137021ea79"
      },
      "outputs": [
        {
          "data": {
            "image/png": "[encoded data removed]",
            "text/plain": [
              "<Figure size 432x288 with 1 Axes>"
            ]
          },
          "metadata": {},
          "output_type": "display_data"
        }
      ],
      "source": [
        "plt.figure()\n",
        "df.children.groupby(df[\"region\"]).sum().plot.bar()\n",
        "plt.title(\"Regions with most children\")\n",
        "plt.xlabel(\"regions\")\n",
        "plt.ylabel(\"children number\")\n",
        "plt.xticks(rotation=0);"
      ]
    },
    {
      "cell_type": "markdown",
      "metadata": {
        "id": "wfSTRoiK8RlX"
      },
      "source": [
        "Southeast has more children than other regions."
      ]
    },
    {
      "cell_type": "markdown",
      "metadata": {
        "id": "DCfA6sd68jNU"
      },
      "source": [
        "* Relationship between age and bmi"
      ]
    },
    {
      "cell_type": "code",
      "execution_count": null,
      "metadata": {
        "colab": {
          "base_uri": "https://localhost:8080/",
          "height": 295
        },
        "id": "t1od1pTP8nCy",
        "outputId": "ea0b09e8-bf31-4c68-d535-d225536719c4"
      },
      "outputs": [
        {
          "data": {
            "image/png": "[encoded data removed]",
            "text/plain": [
              "<Figure size 432x288 with 1 Axes>"
            ]
          },
          "metadata": {},
          "output_type": "display_data"
        }
      ],
      "source": [
        "plt.figure()\n",
        "sns.lineplot(data=df, x=\"age\", y=\"bmi\")\n",
        "plt.xlabel(\"Age\")\n",
        "plt.ylabel(\"BMI\")\n",
        "plt.title(\"Relationship between BMI and Age\");"
      ]
    },
    {
      "cell_type": "markdown",
      "metadata": {
        "id": "PG3RadC48jCg"
      },
      "source": [
        "There is no correlation between age and bmi."
      ]
    },
    {
      "cell_type": "markdown",
      "source": [
        "* Relationship between bmi and children"
      ],
      "metadata": {
        "id": "mtU3QZzoJ-Ze"
      }
    },
    {
      "cell_type": "code",
      "source": [
        "plt.figure(figsize=(9,6))\n",
        "sns.lineplot(data=df, x=\"children\", y=\"bmi\")\n",
        "plt.xlabel(\"Children\")\n",
        "plt.ylabel(\"BMI\")\n",
        "plt.title(\"Relationship between BMI and Children\");"
      ],
      "metadata": {
        "colab": {
          "base_uri": "https://localhost:8080/",
          "height": 244
        },
        "id": "baBbehq3Kzzg",
        "outputId": "04241032-c193-42a4-a3e8-ea777590947a"
      },
      "execution_count": 1,
      "outputs": [
        {
          "output_type": "error",
          "ename": "NameError",
          "evalue": "ignored",
          "traceback": [
            "\u001b[0;31m---------------------------------------------------------------------------\u001b[0m",
            "\u001b[0;31mNameError\u001b[0m                                 Traceback (most recent call last)",
            "\u001b[0;32m<ipython-input-1-d2d2e8da5111>\u001b[0m in \u001b[0;36m<module>\u001b[0;34m\u001b[0m\n\u001b[0;32m----> 1\u001b[0;31m \u001b[0mplt\u001b[0m\u001b[0;34m.\u001b[0m\u001b[0mfigure\u001b[0m\u001b[0;34m(\u001b[0m\u001b[0mfigsize\u001b[0m\u001b[0;34m=\u001b[0m\u001b[0;34m(\u001b[0m\u001b[0;36m9\u001b[0m\u001b[0;34m,\u001b[0m\u001b[0;36m6\u001b[0m\u001b[0;34m)\u001b[0m\u001b[0;34m)\u001b[0m\u001b[0;34m\u001b[0m\u001b[0;34m\u001b[0m\u001b[0m\n\u001b[0m\u001b[1;32m      2\u001b[0m \u001b[0msns\u001b[0m\u001b[0;34m.\u001b[0m\u001b[0mlineplot\u001b[0m\u001b[0;34m(\u001b[0m\u001b[0mdata\u001b[0m\u001b[0;34m=\u001b[0m\u001b[0mdf\u001b[0m\u001b[0;34m,\u001b[0m \u001b[0mx\u001b[0m\u001b[0;34m=\u001b[0m\u001b[0;34m\"children\"\u001b[0m\u001b[0;34m,\u001b[0m \u001b[0my\u001b[0m\u001b[0;34m=\u001b[0m\u001b[0;34m\"bmi\"\u001b[0m\u001b[0;34m)\u001b[0m\u001b[0;34m\u001b[0m\u001b[0;34m\u001b[0m\u001b[0m\n\u001b[1;32m      3\u001b[0m \u001b[0mplt\u001b[0m\u001b[0;34m.\u001b[0m\u001b[0mxlabel\u001b[0m\u001b[0;34m(\u001b[0m\u001b[0;34m\"Children\"\u001b[0m\u001b[0;34m)\u001b[0m\u001b[0;34m\u001b[0m\u001b[0;34m\u001b[0m\u001b[0m\n\u001b[1;32m      4\u001b[0m \u001b[0mplt\u001b[0m\u001b[0;34m.\u001b[0m\u001b[0mylabel\u001b[0m\u001b[0;34m(\u001b[0m\u001b[0;34m\"BMI\"\u001b[0m\u001b[0;34m)\u001b[0m\u001b[0;34m\u001b[0m\u001b[0;34m\u001b[0m\u001b[0m\n\u001b[1;32m      5\u001b[0m \u001b[0mplt\u001b[0m\u001b[0;34m.\u001b[0m\u001b[0mtitle\u001b[0m\u001b[0;34m(\u001b[0m\u001b[0;34m\"Relationship between BMI and Children\"\u001b[0m\u001b[0;34m)\u001b[0m\u001b[0;34m;\u001b[0m\u001b[0;34m\u001b[0m\u001b[0;34m\u001b[0m\u001b[0m\n",
            "\u001b[0;31mNameError\u001b[0m: name 'plt' is not defined"
          ]
        }
      ]
    },
    {
      "cell_type": "markdown",
      "source": [
        "There is no relationship between number of children and bmi"
      ],
      "metadata": {
        "id": "MhUDORAjLUds"
      }
    },
    {
      "cell_type": "markdown",
      "source": [
        "*   Outlier in the bmi"
      ],
      "metadata": {
        "id": "hh4hZiVGK7qc"
      }
    },
    {
      "cell_type": "code",
      "source": [
        "plt.figure(figsize=(4,6))\n",
        "sns.boxplot(y=df[\"bmi\"]);"
      ],
      "metadata": {
        "id": "qJOqANHlK8L_"
      },
      "execution_count": null,
      "outputs": []
    },
    {
      "cell_type": "markdown",
      "source": [
        "There are some outliers in the bmi column"
      ],
      "metadata": {
        "id": "_ru8_mYnLd1K"
      }
    },
    {
      "cell_type": "markdown",
      "source": [
        "*   Relationship between bmi and charges"
      ],
      "metadata": {
        "id": "vOofQ-BILKtW"
      }
    },
    {
      "cell_type": "code",
      "source": [
        "scatterplot(\"bmi\", \"charges\", \"Relationship between BMI and Charges\")"
      ],
      "metadata": {
        "id": "ofXWe5MXLOb_"
      },
      "execution_count": null,
      "outputs": []
    },
    {
      "cell_type": "markdown",
      "source": [
        "bmi and charges have no linear correlation"
      ],
      "metadata": {
        "id": "7R61oiKtLiIU"
      }
    },
    {
      "cell_type": "markdown",
      "source": [
        "*   Relationship between region smoker and bmi"
      ],
      "metadata": {
        "id": "HzwvoZr4LqTo"
      }
    },
    {
      "cell_type": "code",
      "source": [
        "plt.figure(figsize=(9,6))\n",
        "sns.barplot(x=\"region\", y=\"bmi\", data=df, hue=\"smoker\");"
      ],
      "metadata": {
        "id": "nqAv2eEyLs4c"
      },
      "execution_count": null,
      "outputs": []
    },
    {
      "cell_type": "markdown",
      "source": [
        "In southwest, smokers and non-smokers have the highest bmi. In northwest, smokers and non-smokers have the lowest bmi"
      ],
      "metadata": {
        "id": "grdnyU4qLvhc"
      }
    },
    {
      "cell_type": "markdown",
      "metadata": {
        "id": "rEUDnQ8g-jWQ"
      },
      "source": [
        "# ** Data PreProcessing**"
      ]
    },
    {
      "cell_type": "markdown",
      "metadata": {
        "id": "en6FIAJJ-2PQ"
      },
      "source": [
        "We need numerical data so we need to check for the columns including categorical data"
      ]
    },
    {
      "cell_type": "code",
      "execution_count": null,
      "metadata": {
        "colab": {
          "base_uri": "https://localhost:8080/"
        },
        "id": "ART6MXEh-158",
        "outputId": "28817738-b42f-4025-d96d-2e36da0a06e4"
      },
      "outputs": [
        {
          "data": {
            "text/plain": [
              "sex       2\n",
              "smoker    2\n",
              "region    4\n",
              "dtype: int64"
            ]
          },
          "execution_count": 70,
          "metadata": {},
          "output_type": "execute_result"
        }
      ],
      "source": [
        "df.select_dtypes(\"object\").nunique()"
      ]
    },
    {
      "cell_type": "code",
      "execution_count": null,
      "metadata": {
        "colab": {
          "base_uri": "https://localhost:8080/"
        },
        "id": "Xmv84UnS-e_b",
        "outputId": "7053ad57-5b0e-434f-adce-21bc725eed16"
      },
      "outputs": [
        {
          "name": "stdout",
          "output_type": "stream",
          "text": [
            "   age  sex     bmi  children  smoker  region      charges\n",
            "0   19    0  27.900         0       1       3  16884.92400\n",
            "1   18    1  33.770         1       0       2   1725.55230\n",
            "2   28    1  33.000         3       0       2   4449.46200\n",
            "3   33    1  22.705         0       0       1  21984.47061\n",
            "4   32    1  28.880         0       0       1   3866.85520\n",
            "      age  sex    bmi  children  smoker  region     charges\n",
            "1333   50    1  30.97         3       0       1  10600.5483\n",
            "1334   18    0  31.92         0       0       0   2205.9808\n",
            "1335   18    0  36.85         0       0       2   1629.8335\n",
            "1336   21    0  25.80         0       0       3   2007.9450\n",
            "1337   61    0  29.07         0       1       1  29141.3603\n"
          ]
        }
      ],
      "source": [
        "encoder = LabelEncoder()\n",
        "df[\"sex\"] = encoder.fit_transform(df[\"sex\"])\n",
        "df[\"smoker\"] = encoder.fit_transform(df[\"smoker\"])\n",
        "df[\"region\"] = encoder.fit_transform(df[\"region\"])\n",
        "print(df.head())\n",
        "print(df.tail())"
      ]
    },
    {
      "cell_type": "markdown",
      "metadata": {
        "id": "L7DTAPKV_jXs"
      },
      "source": [
        "We are ready to split our dataset into train and test sets"
      ]
    },
    {
      "cell_type": "code",
      "execution_count": null,
      "metadata": {
        "colab": {
          "base_uri": "https://localhost:8080/"
        },
        "id": "4vsfUhWR_eKQ",
        "outputId": "22fe7a40-d2cd-4743-e2f2-d36bb4d37ab6"
      },
      "outputs": [
        {
          "name": "stdout",
          "output_type": "stream",
          "text": [
            "X_train: (935, 6)\n",
            "X_test: (402, 6)\n",
            "y_train: (935,)\n",
            "y_test: (402,)\n"
          ]
        }
      ],
      "source": [
        "X = df.drop(\"charges\", axis=1)\n",
        "y = df[\"charges\"]\n",
        "\n",
        "X_train, X_test, y_train, y_test = train_test_split(X, y, test_size=0.3)\n",
        "print(f\"X_train: {X_train.shape}\")\n",
        "print(f\"X_test: {X_test.shape}\")\n",
        "print(f\"y_train: {y_train.shape}\")\n",
        "print(f\"y_test: {y_test.shape}\")\n"
      ]
    },
    {
      "cell_type": "markdown",
      "metadata": {
        "id": "A5FcldrtBzCd"
      },
      "source": [
        "Scaling Data"
      ]
    },
    {
      "cell_type": "code",
      "execution_count": null,
      "metadata": {
        "id": "twYqx0mT8P3o"
      },
      "outputs": [],
      "source": [
        "scaler = MinMaxScaler()\n",
        "X_train_scaled = scaler.fit_transform(X_train)\n",
        "X_test_scaled = scaler.fit_transform(X_test)\n"
      ]
    },
    {
      "cell_type": "code",
      "execution_count": null,
      "metadata": {
        "id": "vncC8HIZB1xP"
      },
      "outputs": [],
      "source": [
        "X_train_scaled = pd.DataFrame(X_train_scaled, columns=[X_train.columns])\n",
        "X_test_scaled = pd.DataFrame(X_test_scaled, columns=[X_test.columns])"
      ]
    },
    {
      "cell_type": "code",
      "execution_count": null,
      "metadata": {
        "colab": {
          "base_uri": "https://localhost:8080/"
        },
        "id": "3KWE7ZiVB6ym",
        "outputId": "abee1b4d-ab08-42e2-cda5-51c1c35e3a52"
      },
      "outputs": [
        {
          "name": "stdout",
          "output_type": "stream",
          "text": [
            "        age  sex       bmi children smoker    region\n",
            "0  0.956522  1.0  0.644875      0.0    0.0  0.666667\n",
            "1  0.413043  0.0  0.488162      0.2    0.0  0.333333\n",
            "2  0.673913  0.0  0.428840      1.0    0.0  1.000000\n",
            "3  0.000000  1.0  0.273473      0.0    0.0  0.000000\n",
            "4  0.695652  1.0  0.567931      0.2    0.0  0.666667\n",
            "          age  sex       bmi children smoker    region\n",
            "930  0.260870  1.0  0.219801      0.2    0.0  0.333333\n",
            "931  0.086957  1.0  0.528383      0.0    1.0  1.000000\n",
            "932  0.347826  0.0  0.357815      0.6    0.0  0.666667\n",
            "933  0.826087  0.0  0.480495      0.4    0.0  0.333333\n",
            "934  0.391304  1.0  0.480495      0.2    0.0  0.333333\n",
            "        age  sex       bmi children smoker    region\n",
            "0  0.195652  0.0  0.205802      0.0    0.0  1.000000\n",
            "1  0.369565  0.0  0.414325      0.2    0.0  1.000000\n",
            "2  0.565217  1.0  0.424902      0.2    1.0  0.000000\n",
            "3  0.630435  0.0  0.370354      0.2    0.0  0.333333\n",
            "4  0.326087  0.0  0.653067      0.6    0.0  1.000000\n",
            "          age  sex       bmi children smoker    region\n",
            "397  0.500000  1.0  0.511031      0.4    0.0  0.333333\n",
            "398  0.347826  0.0  0.051677      0.6    0.0  0.000000\n",
            "399  0.130435  0.0  0.097613      0.0    1.0  0.000000\n",
            "400  0.717391  0.0  0.022968      0.0    0.0  0.333333\n",
            "401  0.695652  1.0  0.571472      0.0    0.0  1.000000\n"
          ]
        }
      ],
      "source": [
        "print(X_train_scaled.head())\n",
        "print(X_train_scaled.tail())\n",
        "print(X_test_scaled.head())\n",
        "print(X_test_scaled.tail())"
      ]
    },
    {
      "cell_type": "markdown",
      "metadata": {
        "id": "OhaHB9GDDKfb"
      },
      "source": [
        "# **Model Selection and Implementation**"
      ]
    },
    {
      "cell_type": "code",
      "execution_count": null,
      "metadata": {
        "colab": {
          "base_uri": "https://localhost:8080/"
        },
        "id": "flRewyHECHlY",
        "outputId": "03e310ba-d9d7-4924-86be-88d0942bb3c5"
      },
      "outputs": [
        {
          "name": "stderr",
          "output_type": "stream",
          "text": [
            "/usr/local/lib/python3.7/dist-packages/sklearn/utils/validation.py:1692: FutureWarning: Feature names only support names that are all strings. Got feature names with dtypes: ['tuple']. An error will be raised in 1.2.\n",
            "  FutureWarning,\n",
            "/usr/local/lib/python3.7/dist-packages/sklearn/utils/validation.py:1692: FutureWarning: Feature names only support names that are all strings. Got feature names with dtypes: ['tuple']. An error will be raised in 1.2.\n",
            "  FutureWarning,\n",
            "/usr/local/lib/python3.7/dist-packages/sklearn/utils/validation.py:1692: FutureWarning: Feature names only support names that are all strings. Got feature names with dtypes: ['tuple']. An error will be raised in 1.2.\n",
            "  FutureWarning,\n",
            "/usr/local/lib/python3.7/dist-packages/sklearn/utils/validation.py:1692: FutureWarning: Feature names only support names that are all strings. Got feature names with dtypes: ['tuple']. An error will be raised in 1.2.\n",
            "  FutureWarning,\n",
            "/usr/local/lib/python3.7/dist-packages/sklearn/utils/validation.py:1692: FutureWarning: Feature names only support names that are all strings. Got feature names with dtypes: ['tuple']. An error will be raised in 1.2.\n",
            "  FutureWarning,\n",
            "/usr/local/lib/python3.7/dist-packages/sklearn/utils/validation.py:1692: FutureWarning: Feature names only support names that are all strings. Got feature names with dtypes: ['tuple']. An error will be raised in 1.2.\n",
            "  FutureWarning,\n",
            "/usr/local/lib/python3.7/dist-packages/sklearn/utils/validation.py:1692: FutureWarning: Feature names only support names that are all strings. Got feature names with dtypes: ['tuple']. An error will be raised in 1.2.\n",
            "  FutureWarning,\n",
            "/usr/local/lib/python3.7/dist-packages/sklearn/utils/validation.py:1692: FutureWarning: Feature names only support names that are all strings. Got feature names with dtypes: ['tuple']. An error will be raised in 1.2.\n",
            "  FutureWarning,\n",
            "/usr/local/lib/python3.7/dist-packages/sklearn/utils/validation.py:1692: FutureWarning: Feature names only support names that are all strings. Got feature names with dtypes: ['tuple']. An error will be raised in 1.2.\n",
            "  FutureWarning,\n",
            "/usr/local/lib/python3.7/dist-packages/sklearn/utils/validation.py:1692: FutureWarning: Feature names only support names that are all strings. Got feature names with dtypes: ['tuple']. An error will be raised in 1.2.\n",
            "  FutureWarning,\n",
            "/usr/local/lib/python3.7/dist-packages/sklearn/utils/validation.py:1692: FutureWarning: Feature names only support names that are all strings. Got feature names with dtypes: ['tuple']. An error will be raised in 1.2.\n",
            "  FutureWarning,\n",
            "/usr/local/lib/python3.7/dist-packages/sklearn/utils/validation.py:1692: FutureWarning: Feature names only support names that are all strings. Got feature names with dtypes: ['tuple']. An error will be raised in 1.2.\n",
            "  FutureWarning,\n",
            "/usr/local/lib/python3.7/dist-packages/sklearn/utils/validation.py:1692: FutureWarning: Feature names only support names that are all strings. Got feature names with dtypes: ['tuple']. An error will be raised in 1.2.\n",
            "  FutureWarning,\n",
            "/usr/local/lib/python3.7/dist-packages/sklearn/utils/validation.py:1692: FutureWarning: Feature names only support names that are all strings. Got feature names with dtypes: ['tuple']. An error will be raised in 1.2.\n",
            "  FutureWarning,\n",
            "/usr/local/lib/python3.7/dist-packages/sklearn/utils/validation.py:1692: FutureWarning: Feature names only support names that are all strings. Got feature names with dtypes: ['tuple']. An error will be raised in 1.2.\n",
            "  FutureWarning,\n",
            "/usr/local/lib/python3.7/dist-packages/sklearn/utils/validation.py:1692: FutureWarning: Feature names only support names that are all strings. Got feature names with dtypes: ['tuple']. An error will be raised in 1.2.\n",
            "  FutureWarning,\n",
            "/usr/local/lib/python3.7/dist-packages/sklearn/utils/validation.py:1692: FutureWarning: Feature names only support names that are all strings. Got feature names with dtypes: ['tuple']. An error will be raised in 1.2.\n",
            "  FutureWarning,\n",
            "/usr/local/lib/python3.7/dist-packages/sklearn/utils/validation.py:1692: FutureWarning: Feature names only support names that are all strings. Got feature names with dtypes: ['tuple']. An error will be raised in 1.2.\n",
            "  FutureWarning,\n",
            "/usr/local/lib/python3.7/dist-packages/sklearn/utils/validation.py:1692: FutureWarning: Feature names only support names that are all strings. Got feature names with dtypes: ['tuple']. An error will be raised in 1.2.\n",
            "  FutureWarning,\n",
            "/usr/local/lib/python3.7/dist-packages/sklearn/utils/validation.py:1692: FutureWarning: Feature names only support names that are all strings. Got feature names with dtypes: ['tuple']. An error will be raised in 1.2.\n",
            "  FutureWarning,\n",
            "/usr/local/lib/python3.7/dist-packages/sklearn/utils/validation.py:1692: FutureWarning: Feature names only support names that are all strings. Got feature names with dtypes: ['tuple']. An error will be raised in 1.2.\n",
            "  FutureWarning,\n"
          ]
        },
        {
          "name": "stdout",
          "output_type": "stream",
          "text": [
            "Linear regression: 4015.9616165222565\n",
            "Decision tree: 3116.384845090909\n"
          ]
        },
        {
          "name": "stderr",
          "output_type": "stream",
          "text": [
            "/usr/local/lib/python3.7/dist-packages/sklearn/utils/validation.py:1692: FutureWarning: Feature names only support names that are all strings. Got feature names with dtypes: ['tuple']. An error will be raised in 1.2.\n",
            "  FutureWarning,\n",
            "/usr/local/lib/python3.7/dist-packages/sklearn/utils/validation.py:1692: FutureWarning: Feature names only support names that are all strings. Got feature names with dtypes: ['tuple']. An error will be raised in 1.2.\n",
            "  FutureWarning,\n",
            "/usr/local/lib/python3.7/dist-packages/sklearn/utils/validation.py:1692: FutureWarning: Feature names only support names that are all strings. Got feature names with dtypes: ['tuple']. An error will be raised in 1.2.\n",
            "  FutureWarning,\n",
            "/usr/local/lib/python3.7/dist-packages/sklearn/utils/validation.py:1692: FutureWarning: Feature names only support names that are all strings. Got feature names with dtypes: ['tuple']. An error will be raised in 1.2.\n",
            "  FutureWarning,\n",
            "/usr/local/lib/python3.7/dist-packages/sklearn/utils/validation.py:1692: FutureWarning: Feature names only support names that are all strings. Got feature names with dtypes: ['tuple']. An error will be raised in 1.2.\n",
            "  FutureWarning,\n",
            "/usr/local/lib/python3.7/dist-packages/sklearn/utils/validation.py:1692: FutureWarning: Feature names only support names that are all strings. Got feature names with dtypes: ['tuple']. An error will be raised in 1.2.\n",
            "  FutureWarning,\n",
            "/usr/local/lib/python3.7/dist-packages/sklearn/utils/validation.py:1692: FutureWarning: Feature names only support names that are all strings. Got feature names with dtypes: ['tuple']. An error will be raised in 1.2.\n",
            "  FutureWarning,\n",
            "/usr/local/lib/python3.7/dist-packages/sklearn/utils/validation.py:1692: FutureWarning: Feature names only support names that are all strings. Got feature names with dtypes: ['tuple']. An error will be raised in 1.2.\n",
            "  FutureWarning,\n",
            "/usr/local/lib/python3.7/dist-packages/sklearn/utils/validation.py:1692: FutureWarning: Feature names only support names that are all strings. Got feature names with dtypes: ['tuple']. An error will be raised in 1.2.\n",
            "  FutureWarning,\n",
            "/usr/local/lib/python3.7/dist-packages/sklearn/utils/validation.py:1692: FutureWarning: Feature names only support names that are all strings. Got feature names with dtypes: ['tuple']. An error will be raised in 1.2.\n",
            "  FutureWarning,\n",
            "/usr/local/lib/python3.7/dist-packages/sklearn/utils/validation.py:1692: FutureWarning: Feature names only support names that are all strings. Got feature names with dtypes: ['tuple']. An error will be raised in 1.2.\n",
            "  FutureWarning,\n",
            "/usr/local/lib/python3.7/dist-packages/sklearn/utils/validation.py:1692: FutureWarning: Feature names only support names that are all strings. Got feature names with dtypes: ['tuple']. An error will be raised in 1.2.\n",
            "  FutureWarning,\n",
            "/usr/local/lib/python3.7/dist-packages/sklearn/utils/validation.py:1692: FutureWarning: Feature names only support names that are all strings. Got feature names with dtypes: ['tuple']. An error will be raised in 1.2.\n",
            "  FutureWarning,\n",
            "/usr/local/lib/python3.7/dist-packages/sklearn/utils/validation.py:1692: FutureWarning: Feature names only support names that are all strings. Got feature names with dtypes: ['tuple']. An error will be raised in 1.2.\n",
            "  FutureWarning,\n"
          ]
        },
        {
          "name": "stdout",
          "output_type": "stream",
          "text": [
            "Random forest: 2581.555657229305\n",
            "Gradient boost: 2365.7017682807536\n"
          ]
        },
        {
          "name": "stderr",
          "output_type": "stream",
          "text": [
            "/usr/local/lib/python3.7/dist-packages/sklearn/utils/validation.py:1692: FutureWarning: Feature names only support names that are all strings. Got feature names with dtypes: ['tuple']. An error will be raised in 1.2.\n",
            "  FutureWarning,\n",
            "/usr/local/lib/python3.7/dist-packages/sklearn/utils/validation.py:1692: FutureWarning: Feature names only support names that are all strings. Got feature names with dtypes: ['tuple']. An error will be raised in 1.2.\n",
            "  FutureWarning,\n",
            "/usr/local/lib/python3.7/dist-packages/sklearn/utils/validation.py:1692: FutureWarning: Feature names only support names that are all strings. Got feature names with dtypes: ['tuple']. An error will be raised in 1.2.\n",
            "  FutureWarning,\n",
            "/usr/local/lib/python3.7/dist-packages/sklearn/utils/validation.py:1692: FutureWarning: Feature names only support names that are all strings. Got feature names with dtypes: ['tuple']. An error will be raised in 1.2.\n",
            "  FutureWarning,\n",
            "/usr/local/lib/python3.7/dist-packages/sklearn/utils/validation.py:1692: FutureWarning: Feature names only support names that are all strings. Got feature names with dtypes: ['tuple']. An error will be raised in 1.2.\n",
            "  FutureWarning,\n"
          ]
        }
      ],
      "source": [
        "models = [#[\"Logistic regression\", LogisticRegression()],\n",
        "          #[\"Ridge classifier\", RidgeClassifier()],\n",
        "          [\"Linear regression\", LinearRegression()],\n",
        "          [\"Decision tree\", DecisionTreeRegressor()],\n",
        "          #[\"Gaussian\", GaussianNB()],\n",
        "          [\"Random forest\", RandomForestRegressor()],\n",
        "          [\"Gradient boost\", GradientBoostingRegressor()],\n",
        "          #[\"Neural networks\", MLPClassifier()]\n",
        "           ]\n",
        "results_list = []  \n",
        "models_endlist = []  \n",
        "\n",
        "\n",
        "for name, model in models:\n",
        "    cv_result = cross_val_score(estimator=model, X=X_train_scaled, y=y_train, cv=5, scoring=\"neg_mean_absolute_error\")\n",
        "    cv_result = -1 * cv_result.mean()\n",
        "    results_list.append(cv_result)\n",
        "    models_endlist.append(name)\n",
        "    print(\"{}: {}\".format(name, cv_result))"
      ]
    },
    {
      "cell_type": "markdown",
      "metadata": {
        "id": "JsTT2aHtHhii"
      },
      "source": [
        "Some models throw errors so I turned them into comments. Results of successful models:\n",
        "\n",
        "Linear regression: 4015.9616165222565\n",
        "Decision tree: 3116.384845090909\n",
        "Random forest: 2581.555657229305\n",
        "Gradient boost: 2365.7017682807536\n",
        "\n",
        "Gradient boost has the lowest MAE."
      ]
    },
    {
      "cell_type": "markdown",
      "metadata": {
        "id": "j7PQtqINIHj2"
      },
      "source": [
        "# **Hyper-Parameter Optimization of Gradient Boost Model**"
      ]
    },
    {
      "cell_type": "code",
      "execution_count": null,
      "metadata": {
        "colab": {
          "background_save": true,
          "base_uri": "https://localhost:8080/"
        },
        "id": "pCxIrpD4FPWK",
        "outputId": "de21f288-e2ba-46c2-8f78-1610b6438590"
      },
      "outputs": [
        {
          "name": "stdout",
          "output_type": "stream",
          "text": [
            "Fitting 5 folds for each of 12000 candidates, totalling 60000 fits\n",
            "Best parameters are {'learning_rate': 0.05, 'max_depth': 2, 'max_features': 4, 'min_samples_split': 15, 'n_estimators': 140, 'subsample': 0.8} with CV score=0.868758110992038:\n"
          ]
        },
        {
          "name": "stderr",
          "output_type": "stream",
          "text": [
            "/usr/local/lib/python3.7/dist-packages/sklearn/utils/validation.py:1692: FutureWarning: Feature names only support names that are all strings. Got feature names with dtypes: ['tuple']. An error will be raised in 1.2.\n",
            "  FutureWarning,\n"
          ]
        }
      ],
      "source": [
        "parameters = {\"n_estimators\": range(40, 150, 20),\n",
        "          \"learning_rate\": [0.05, 0.2, 0.3, 0.5, 1],\n",
        "          \"subsample\": [0.5,0.6,0.7,0.8,0.9],\n",
        "          \"max_features\": range(1,5),\n",
        "        \"min_samples_split\": range(5,25,5),\n",
        "         \"max_depth\": range(2, 12, 2)}\n",
        "\n",
        "gsCV = GridSearchCV(GradientBoostingRegressor(),\n",
        "                    param_grid=parameters,\n",
        "                    cv=5,\n",
        "                    verbose=1,\n",
        "                    n_jobs=-1)\n",
        "\n",
        "\n",
        "gsCV.fit(X_train_scaled, y_train)\n",
        "\n",
        "print(\"Best parameters are {} with CV score={}:\" .format(gsCV.best_params_, gsCV.best_score_))"
      ]
    },
    {
      "cell_type": "markdown",
      "source": [
        "# **Model Evaluation**"
      ],
      "metadata": {
        "id": "Y33q5_G9MJk3"
      }
    },
    {
      "cell_type": "code",
      "execution_count": null,
      "metadata": {
        "id": "1ohuySBBIZPt"
      },
      "outputs": [],
      "source": [
        "y_pred = gsCV.predict(X_test_scaled) \n",
        "print(f\"Mean absolute error: {mean_absolute_error(y_test, y_pred)}\")\n",
        "print(f\"Mean squared error: {mean_squared_error(y_test, y_pred)}\")\n",
        "print(f\"Root mean squared error: {np.sqrt(mean_squared_error(y_test, y_pred))}\")"
      ]
    }
  ],
  "metadata": {
    "colab": {
      "provenance": [],
      "collapsed_sections": []
    },
    "kernelspec": {
      "display_name": "Python 3",
      "name": "python3"
    },
    "language_info": {
      "name": "python"
    }
  },
  "nbformat": 4,
  "nbformat_minor": 0
}